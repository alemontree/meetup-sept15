{
 "cells": [
  {
   "cell_type": "code",
   "execution_count": null,
   "metadata": {
    "collapsed": true
   },
   "outputs": [],
   "source": [
    "import csv\n",
    "import os\n",
    "# to make unicode work\n",
    "import sys\n",
    "reload(sys)\n",
    "sys.setdefaultencoding(\"utf-8\")\n",
    "\n",
    "# twitter api wrapper\n",
    "import tweepy"
   ]
  },
  {
   "cell_type": "code",
   "execution_count": null,
   "metadata": {
    "collapsed": false
   },
   "outputs": [],
   "source": [
    "# go to apps.twitter.com and register an application!\n",
    "# put your credentials here\n",
    "consumer_key = 'consumer_key'\n",
    "consumer_secret = 'consumer_secret'\n",
    "access_token = 'access_token'\n",
    "access_token_secret = 'access_secret'"
   ]
  },
  {
   "cell_type": "code",
   "execution_count": null,
   "metadata": {
    "collapsed": false
   },
   "outputs": [],
   "source": [
    "username = \"your_username_here\"\n",
    "    \n",
    "auth = tweepy.OAuthHandler(consumer_key, consumer_secret)\n",
    "auth.set_access_token(access_key, access_secret)\n",
    "# authenticate to the twitter api with your credentials\n",
    "api = tweepy.API(auth)\n",
    "\n",
    "# how many tweets to get (limit 200)\n",
    "num_tweets = 100\n",
    "    \n",
    "# access your timeline\n",
    "tweets = api.user_timeline(screen_name = username, count = num_tweets)\n",
    "    \n",
    "# start a list to hold your tweet info\n",
    "my_tweets = []\n",
    "    \n",
    "for tweet in tweets:\n",
    "    my_tweets.append([username, tweet.id_str, tweet.created_at, tweet.text.encode(\"utf-8\")])\n",
    "\n",
    "# write it out to a csv\n",
    "with open(\"{0}_tweets.csv\".format(username), 'w+') as file:\n",
    "    writer = csv.writer(file, delimiter='|')\n",
    "    writer.writerows(my_tweets)"
   ]
  },
  {
   "cell_type": "code",
   "execution_count": null,
   "metadata": {
    "collapsed": true
   },
   "outputs": [],
   "source": []
  }
 ],
 "metadata": {
  "kernelspec": {
   "display_name": "Python 2",
   "language": "python",
   "name": "python2"
  },
  "language_info": {
   "codemirror_mode": {
    "name": "ipython",
    "version": 2
   },
   "file_extension": ".py",
   "mimetype": "text/x-python",
   "name": "python",
   "nbconvert_exporter": "python",
   "pygments_lexer": "ipython2",
   "version": "2.7.6"
  }
 },
 "nbformat": 4,
 "nbformat_minor": 0
}
